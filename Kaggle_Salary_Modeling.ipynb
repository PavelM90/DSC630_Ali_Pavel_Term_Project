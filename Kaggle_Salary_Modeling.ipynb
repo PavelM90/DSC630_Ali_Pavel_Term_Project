{
 "cells": [
  {
   "cell_type": "markdown",
   "id": "10236d05",
   "metadata": {},
   "source": [
    "## Kaggle Machine Learning & Data Science Survey Ext"
   ]
  },
  {
   "cell_type": "code",
   "execution_count": 38,
   "id": "f4caf91d",
   "metadata": {},
   "outputs": [],
   "source": [
    "# Import necessary libraries\n",
    "import pandas as pd\n",
    "import matplotlib.pyplot as plt\n",
    "import seaborn as sns\n",
    "import sklearn\n",
    "from sklearn.preprocessing import StandardScaler\n",
    "import numpy as np\n",
    "import statsmodels.api as sm\n",
    "from statsmodels.formula.api import ols\n",
    "from sklearn.ensemble import RandomForestRegressor\n",
    "from sklearn.feature_selection import RFE\n",
    "from sklearn.model_selection import train_test_split, StratifiedKFold, cross_val_score\n",
    "from sklearn.metrics import make_scorer, mean_squared_error\n",
    "from sklearn.linear_model import LinearRegression\n",
    "from sklearn.metrics import r2_score\n",
    "from scipy import stats"
   ]
  },
  {
   "cell_type": "code",
   "execution_count": 2,
   "id": "9af882f7",
   "metadata": {},
   "outputs": [],
   "source": [
    "# Load the data\n",
    "df = pd.read_csv('kaggle_2017_to_2020.csv', low_memory = False)"
   ]
  },
  {
   "cell_type": "code",
   "execution_count": 3,
   "id": "fbb371aa",
   "metadata": {
    "scrolled": false
   },
   "outputs": [
    {
     "name": "stdout",
     "output_type": "stream",
     "text": [
      "<class 'pandas.core.frame.DataFrame'>\n",
      "RangeIndex: 80327 entries, 0 to 80326\n",
      "Data columns (total 20 columns):\n",
      " #   Column                              Non-Null Count  Dtype \n",
      "---  ------                              --------------  ----- \n",
      " 0   Unique_Id                           80327 non-null  int64 \n",
      " 1   Time                                80327 non-null  object\n",
      " 2   Year                                80327 non-null  int64 \n",
      " 3   Age                                 80327 non-null  object\n",
      " 4   Gender                              80327 non-null  object\n",
      " 5   Country                             80327 non-null  object\n",
      " 6   Degree                              80327 non-null  object\n",
      " 7   Job Title                           80327 non-null  object\n",
      " 8   Company Size                        80327 non-null  object\n",
      " 9   Team Size                           80327 non-null  object\n",
      " 10  ML Status in Company                80327 non-null  object\n",
      " 11  Compensation Status                 80327 non-null  object\n",
      " 12  Money Spent                         80327 non-null  object\n",
      " 13  Current role experience (in years)  80327 non-null  object\n",
      " 14  Programming language choice         80327 non-null  object\n",
      " 15  Recommend Programming language      80327 non-null  object\n",
      " 16  Coding experience (in years)        80327 non-null  object\n",
      " 17  Specialised HW                      80327 non-null  object\n",
      " 18  TPU Usage                           80327 non-null  object\n",
      " 19  ML Methods experience (in years)    80327 non-null  object\n",
      "dtypes: int64(2), object(18)\n",
      "memory usage: 12.3+ MB\n",
      "None\n"
     ]
    }
   ],
   "source": [
    "# Print the information\n",
    "print(df.info())"
   ]
  },
  {
   "cell_type": "code",
   "execution_count": 4,
   "id": "28b19262",
   "metadata": {},
   "outputs": [
    {
     "data": {
      "text/html": [
       "<div>\n",
       "<style scoped>\n",
       "    .dataframe tbody tr th:only-of-type {\n",
       "        vertical-align: middle;\n",
       "    }\n",
       "\n",
       "    .dataframe tbody tr th {\n",
       "        vertical-align: top;\n",
       "    }\n",
       "\n",
       "    .dataframe thead th {\n",
       "        text-align: right;\n",
       "    }\n",
       "</style>\n",
       "<table border=\"1\" class=\"dataframe\">\n",
       "  <thead>\n",
       "    <tr style=\"text-align: right;\">\n",
       "      <th></th>\n",
       "      <th>Unique_Id</th>\n",
       "      <th>Time</th>\n",
       "      <th>Year</th>\n",
       "      <th>Age</th>\n",
       "      <th>Gender</th>\n",
       "      <th>Country</th>\n",
       "      <th>Degree</th>\n",
       "      <th>Job Title</th>\n",
       "      <th>Company Size</th>\n",
       "      <th>Team Size</th>\n",
       "      <th>ML Status in Company</th>\n",
       "      <th>Compensation Status</th>\n",
       "      <th>Money Spent</th>\n",
       "      <th>Current role experience (in years)</th>\n",
       "      <th>Programming language choice</th>\n",
       "      <th>Recommend Programming language</th>\n",
       "      <th>Coding experience (in years)</th>\n",
       "      <th>Specialised HW</th>\n",
       "      <th>TPU Usage</th>\n",
       "      <th>ML Methods experience (in years)</th>\n",
       "    </tr>\n",
       "  </thead>\n",
       "  <tbody>\n",
       "    <tr>\n",
       "      <th>0</th>\n",
       "      <td>0</td>\n",
       "      <td>Unknown / Not Specified</td>\n",
       "      <td>2017</td>\n",
       "      <td>25.0</td>\n",
       "      <td>Male</td>\n",
       "      <td>Argentina</td>\n",
       "      <td>Master’s degree</td>\n",
       "      <td>Machine Learning Engineer</td>\n",
       "      <td>Unknown / Not Specified</td>\n",
       "      <td>Unknown / Not Specified</td>\n",
       "      <td>Unknown / Not Specified</td>\n",
       "      <td>Cant Disclose</td>\n",
       "      <td>Unknown / Not Specified</td>\n",
       "      <td>Unknown / Not Specified</td>\n",
       "      <td>Unknown / Not Specified</td>\n",
       "      <td>Python</td>\n",
       "      <td>Unknown / Not Specified</td>\n",
       "      <td>Basic laptop (Macbook),Traditional Workstation</td>\n",
       "      <td>Unknown / Not Specified</td>\n",
       "      <td>Unknown / Not Specified</td>\n",
       "    </tr>\n",
       "    <tr>\n",
       "      <th>1</th>\n",
       "      <td>1</td>\n",
       "      <td>Unknown / Not Specified</td>\n",
       "      <td>2017</td>\n",
       "      <td>21.0</td>\n",
       "      <td>Prefer not to say</td>\n",
       "      <td>Argentina</td>\n",
       "      <td>No formal education past high school</td>\n",
       "      <td>Business Analyst</td>\n",
       "      <td>Unknown / Not Specified</td>\n",
       "      <td>Unknown / Not Specified</td>\n",
       "      <td>Unknown / Not Specified</td>\n",
       "      <td>Cant Disclose</td>\n",
       "      <td>Unknown / Not Specified</td>\n",
       "      <td>Unknown / Not Specified</td>\n",
       "      <td>Unknown / Not Specified</td>\n",
       "      <td>Python</td>\n",
       "      <td>Unknown / Not Specified</td>\n",
       "      <td>Unknown / Not Specified</td>\n",
       "      <td>Unknown / Not Specified</td>\n",
       "      <td>Unknown / Not Specified</td>\n",
       "    </tr>\n",
       "    <tr>\n",
       "      <th>2</th>\n",
       "      <td>2</td>\n",
       "      <td>Unknown / Not Specified</td>\n",
       "      <td>2017</td>\n",
       "      <td>25.0</td>\n",
       "      <td>Male</td>\n",
       "      <td>Argentina</td>\n",
       "      <td>Bachelor’s degree</td>\n",
       "      <td>Computer Scientist</td>\n",
       "      <td>50-249 employees</td>\n",
       "      <td>Unknown / Not Specified</td>\n",
       "      <td>Unknown / Not Specified</td>\n",
       "      <td>20,001-30,000</td>\n",
       "      <td>Unknown / Not Specified</td>\n",
       "      <td>Unknown / Not Specified</td>\n",
       "      <td>Unknown / Not Specified</td>\n",
       "      <td>Python</td>\n",
       "      <td>Unknown / Not Specified</td>\n",
       "      <td>Unknown / Not Specified</td>\n",
       "      <td>Unknown / Not Specified</td>\n",
       "      <td>Unknown / Not Specified</td>\n",
       "    </tr>\n",
       "    <tr>\n",
       "      <th>3</th>\n",
       "      <td>3</td>\n",
       "      <td>Unknown / Not Specified</td>\n",
       "      <td>2017</td>\n",
       "      <td>28.0</td>\n",
       "      <td>Male</td>\n",
       "      <td>Argentina</td>\n",
       "      <td>Bachelor’s degree</td>\n",
       "      <td>Other</td>\n",
       "      <td>Unknown / Not Specified</td>\n",
       "      <td>Unknown / Not Specified</td>\n",
       "      <td>Unknown / Not Specified</td>\n",
       "      <td>Cant Disclose</td>\n",
       "      <td>Unknown / Not Specified</td>\n",
       "      <td>Unknown / Not Specified</td>\n",
       "      <td>Unknown / Not Specified</td>\n",
       "      <td>Python</td>\n",
       "      <td>Unknown / Not Specified</td>\n",
       "      <td>Other</td>\n",
       "      <td>Unknown / Not Specified</td>\n",
       "      <td>Unknown / Not Specified</td>\n",
       "    </tr>\n",
       "    <tr>\n",
       "      <th>4</th>\n",
       "      <td>4</td>\n",
       "      <td>Unknown / Not Specified</td>\n",
       "      <td>2017</td>\n",
       "      <td>38.0</td>\n",
       "      <td>Male</td>\n",
       "      <td>Argentina</td>\n",
       "      <td>Unknown / Not Specified</td>\n",
       "      <td>Unknown / Not Specified</td>\n",
       "      <td>Unknown / Not Specified</td>\n",
       "      <td>Unknown / Not Specified</td>\n",
       "      <td>Unknown / Not Specified</td>\n",
       "      <td>Cant Disclose</td>\n",
       "      <td>Unknown / Not Specified</td>\n",
       "      <td>Unknown / Not Specified</td>\n",
       "      <td>Unknown / Not Specified</td>\n",
       "      <td>Unknown / Not Specified</td>\n",
       "      <td>Unknown / Not Specified</td>\n",
       "      <td>Unknown / Not Specified</td>\n",
       "      <td>Unknown / Not Specified</td>\n",
       "      <td>Unknown / Not Specified</td>\n",
       "    </tr>\n",
       "  </tbody>\n",
       "</table>\n",
       "</div>"
      ],
      "text/plain": [
       "   Unique_Id                     Time  Year   Age             Gender  \\\n",
       "0          0  Unknown / Not Specified  2017  25.0               Male   \n",
       "1          1  Unknown / Not Specified  2017  21.0  Prefer not to say   \n",
       "2          2  Unknown / Not Specified  2017  25.0               Male   \n",
       "3          3  Unknown / Not Specified  2017  28.0               Male   \n",
       "4          4  Unknown / Not Specified  2017  38.0               Male   \n",
       "\n",
       "     Country                                Degree                  Job Title  \\\n",
       "0  Argentina                       Master’s degree  Machine Learning Engineer   \n",
       "1  Argentina  No formal education past high school           Business Analyst   \n",
       "2  Argentina                     Bachelor’s degree         Computer Scientist   \n",
       "3  Argentina                     Bachelor’s degree                      Other   \n",
       "4  Argentina               Unknown / Not Specified    Unknown / Not Specified   \n",
       "\n",
       "              Company Size                Team Size     ML Status in Company  \\\n",
       "0  Unknown / Not Specified  Unknown / Not Specified  Unknown / Not Specified   \n",
       "1  Unknown / Not Specified  Unknown / Not Specified  Unknown / Not Specified   \n",
       "2         50-249 employees  Unknown / Not Specified  Unknown / Not Specified   \n",
       "3  Unknown / Not Specified  Unknown / Not Specified  Unknown / Not Specified   \n",
       "4  Unknown / Not Specified  Unknown / Not Specified  Unknown / Not Specified   \n",
       "\n",
       "  Compensation Status              Money Spent  \\\n",
       "0       Cant Disclose  Unknown / Not Specified   \n",
       "1       Cant Disclose  Unknown / Not Specified   \n",
       "2       20,001-30,000  Unknown / Not Specified   \n",
       "3       Cant Disclose  Unknown / Not Specified   \n",
       "4       Cant Disclose  Unknown / Not Specified   \n",
       "\n",
       "  Current role experience (in years) Programming language choice  \\\n",
       "0            Unknown / Not Specified     Unknown / Not Specified   \n",
       "1            Unknown / Not Specified     Unknown / Not Specified   \n",
       "2            Unknown / Not Specified     Unknown / Not Specified   \n",
       "3            Unknown / Not Specified     Unknown / Not Specified   \n",
       "4            Unknown / Not Specified     Unknown / Not Specified   \n",
       "\n",
       "  Recommend Programming language Coding experience (in years)  \\\n",
       "0                         Python      Unknown / Not Specified   \n",
       "1                         Python      Unknown / Not Specified   \n",
       "2                         Python      Unknown / Not Specified   \n",
       "3                         Python      Unknown / Not Specified   \n",
       "4        Unknown / Not Specified      Unknown / Not Specified   \n",
       "\n",
       "                                   Specialised HW                TPU Usage  \\\n",
       "0  Basic laptop (Macbook),Traditional Workstation  Unknown / Not Specified   \n",
       "1                         Unknown / Not Specified  Unknown / Not Specified   \n",
       "2                         Unknown / Not Specified  Unknown / Not Specified   \n",
       "3                                           Other  Unknown / Not Specified   \n",
       "4                         Unknown / Not Specified  Unknown / Not Specified   \n",
       "\n",
       "  ML Methods experience (in years)  \n",
       "0          Unknown / Not Specified  \n",
       "1          Unknown / Not Specified  \n",
       "2          Unknown / Not Specified  \n",
       "3          Unknown / Not Specified  \n",
       "4          Unknown / Not Specified  "
      ]
     },
     "execution_count": 4,
     "metadata": {},
     "output_type": "execute_result"
    }
   ],
   "source": [
    "# Display first five rows\n",
    "df.head()"
   ]
  },
  {
   "cell_type": "code",
   "execution_count": 5,
   "id": "bd07da89",
   "metadata": {
    "scrolled": false
   },
   "outputs": [
    {
     "data": {
      "text/plain": [
       "Unique_Id                             0\n",
       "Time                                  0\n",
       "Year                                  0\n",
       "Age                                   0\n",
       "Gender                                0\n",
       "Country                               0\n",
       "Degree                                0\n",
       "Job Title                             0\n",
       "Company Size                          0\n",
       "Team Size                             0\n",
       "ML Status in Company                  0\n",
       "Compensation Status                   0\n",
       "Money Spent                           0\n",
       "Current role experience (in years)    0\n",
       "Programming language choice           0\n",
       "Recommend Programming language        0\n",
       "Coding experience (in years)          0\n",
       "Specialised HW                        0\n",
       "TPU Usage                             0\n",
       "ML Methods experience (in years)      0\n",
       "dtype: int64"
      ]
     },
     "execution_count": 5,
     "metadata": {},
     "output_type": "execute_result"
    }
   ],
   "source": [
    "# Check for missing values\n",
    "df.isnull().sum()"
   ]
  },
  {
   "cell_type": "code",
   "execution_count": 6,
   "id": "d840e53f",
   "metadata": {},
   "outputs": [],
   "source": [
    "# Select the columns to drop\n",
    "columns_to_drop = ['Unique_Id','Time']"
   ]
  },
  {
   "cell_type": "code",
   "execution_count": 7,
   "id": "a218d392",
   "metadata": {},
   "outputs": [],
   "source": [
    "# Drop the columns\n",
    "df.drop(columns = columns_to_drop, inplace =True )"
   ]
  },
  {
   "cell_type": "code",
   "execution_count": 8,
   "id": "a967b0d9",
   "metadata": {
    "scrolled": true
   },
   "outputs": [
    {
     "data": {
      "text/plain": [
       "count                       80327\n",
       "unique                         19\n",
       "top       Unknown / Not Specified\n",
       "freq                        20201\n",
       "Name: Compensation Status, dtype: object"
      ]
     },
     "execution_count": 8,
     "metadata": {},
     "output_type": "execute_result"
    }
   ],
   "source": [
    "# Find how many entries with unknown comensation are missing\n",
    "df['Compensation Status'].describe()"
   ]
  },
  {
   "cell_type": "code",
   "execution_count": 9,
   "id": "7899a0b1",
   "metadata": {},
   "outputs": [
    {
     "data": {
      "text/plain": [
       "array(['Cant Disclose', '20,001-30,000', '40,000-49,999', '> $500,000',\n",
       "       '50,000-59,999', '10,001-20,000', '30,000-39,999',\n",
       "       '300,000-500,000', '100,000-124,999', '200,000-249,999',\n",
       "       '60,000-69,999', '80,000-89,999', '70,000-79,999',\n",
       "       '125,000-149,999', '150,000-199,999', '250,000-299,999',\n",
       "       '90,000-99,999', '0-10,000', 'Unknown / Not Specified'],\n",
       "      dtype=object)"
      ]
     },
     "execution_count": 9,
     "metadata": {},
     "output_type": "execute_result"
    }
   ],
   "source": [
    "# Find unique values\n",
    "df['Compensation Status'].unique()"
   ]
  },
  {
   "cell_type": "code",
   "execution_count": 10,
   "id": "9cb5aa6b",
   "metadata": {},
   "outputs": [],
   "source": [
    "# Keep only entries with known compensations\n",
    "filtered_df = df[df['Compensation Status'] != 'Unknown / Not Specified']\n",
    "filtered_df = filtered_df[filtered_df['Compensation Status'] != 'Cant Disclose']"
   ]
  },
  {
   "cell_type": "code",
   "execution_count": 11,
   "id": "342906c1",
   "metadata": {},
   "outputs": [
    {
     "name": "stdout",
     "output_type": "stream",
     "text": [
      "<class 'pandas.core.frame.DataFrame'>\n",
      "Int64Index: 43860 entries, 2 to 80325\n",
      "Data columns (total 18 columns):\n",
      " #   Column                              Non-Null Count  Dtype \n",
      "---  ------                              --------------  ----- \n",
      " 0   Year                                43860 non-null  int64 \n",
      " 1   Age                                 43860 non-null  object\n",
      " 2   Gender                              43860 non-null  object\n",
      " 3   Country                             43860 non-null  object\n",
      " 4   Degree                              43860 non-null  object\n",
      " 5   Job Title                           43860 non-null  object\n",
      " 6   Company Size                        43860 non-null  object\n",
      " 7   Team Size                           43860 non-null  object\n",
      " 8   ML Status in Company                43860 non-null  object\n",
      " 9   Compensation Status                 43860 non-null  object\n",
      " 10  Money Spent                         43860 non-null  object\n",
      " 11  Current role experience (in years)  43860 non-null  object\n",
      " 12  Programming language choice         43860 non-null  object\n",
      " 13  Recommend Programming language      43860 non-null  object\n",
      " 14  Coding experience (in years)        43860 non-null  object\n",
      " 15  Specialised HW                      43860 non-null  object\n",
      " 16  TPU Usage                           43860 non-null  object\n",
      " 17  ML Methods experience (in years)    43860 non-null  object\n",
      "dtypes: int64(1), object(17)\n",
      "memory usage: 6.4+ MB\n"
     ]
    }
   ],
   "source": [
    "# print filtered df\n",
    "filtered_df.info()"
   ]
  },
  {
   "cell_type": "markdown",
   "id": "0706f265",
   "metadata": {},
   "source": [
    "### About 40,000 entries were removed"
   ]
  },
  {
   "cell_type": "code",
   "execution_count": 12,
   "id": "b36ca14f",
   "metadata": {},
   "outputs": [
    {
     "data": {
      "text/plain": [
       "array(['Bachelor’s degree',\n",
       "       'Some college/university study without earning a bachelor’s degree',\n",
       "       'Master’s degree', 'Professional degree', 'Doctoral degree',\n",
       "       'Unknown / Not Specified', 'No formal education past high school',\n",
       "       'I prefer not to answer'], dtype=object)"
      ]
     },
     "execution_count": 12,
     "metadata": {},
     "output_type": "execute_result"
    }
   ],
   "source": [
    "# Check the type of education present in the survey\n",
    "filtered_df['Degree'].unique()"
   ]
  },
  {
   "cell_type": "code",
   "execution_count": 13,
   "id": "39fd8f8a",
   "metadata": {},
   "outputs": [],
   "source": [
    "# Remove the unknown values from education column\n",
    "filtered_df = filtered_df[filtered_df['Degree'] != 'Unknown / Not Specified']"
   ]
  },
  {
   "cell_type": "code",
   "execution_count": 14,
   "id": "e441d240",
   "metadata": {},
   "outputs": [
    {
     "name": "stdout",
     "output_type": "stream",
     "text": [
      "<class 'pandas.core.frame.DataFrame'>\n",
      "Int64Index: 43854 entries, 2 to 80325\n",
      "Data columns (total 18 columns):\n",
      " #   Column                              Non-Null Count  Dtype \n",
      "---  ------                              --------------  ----- \n",
      " 0   Year                                43854 non-null  int64 \n",
      " 1   Age                                 43854 non-null  object\n",
      " 2   Gender                              43854 non-null  object\n",
      " 3   Country                             43854 non-null  object\n",
      " 4   Degree                              43854 non-null  object\n",
      " 5   Job Title                           43854 non-null  object\n",
      " 6   Company Size                        43854 non-null  object\n",
      " 7   Team Size                           43854 non-null  object\n",
      " 8   ML Status in Company                43854 non-null  object\n",
      " 9   Compensation Status                 43854 non-null  object\n",
      " 10  Money Spent                         43854 non-null  object\n",
      " 11  Current role experience (in years)  43854 non-null  object\n",
      " 12  Programming language choice         43854 non-null  object\n",
      " 13  Recommend Programming language      43854 non-null  object\n",
      " 14  Coding experience (in years)        43854 non-null  object\n",
      " 15  Specialised HW                      43854 non-null  object\n",
      " 16  TPU Usage                           43854 non-null  object\n",
      " 17  ML Methods experience (in years)    43854 non-null  object\n",
      "dtypes: int64(1), object(17)\n",
      "memory usage: 6.4+ MB\n"
     ]
    }
   ],
   "source": [
    "# Check filtered df\n",
    "filtered_df.info()"
   ]
  },
  {
   "cell_type": "markdown",
   "id": "dfb48228",
   "metadata": {},
   "source": [
    "### About 2000 entries were removed"
   ]
  },
  {
   "cell_type": "code",
   "execution_count": 15,
   "id": "5c4d1e83",
   "metadata": {},
   "outputs": [],
   "source": [
    "filtered_df = filtered_df[filtered_df['ML Methods experience (in years)'] != 'Unknown / Not Specified']"
   ]
  },
  {
   "cell_type": "code",
   "execution_count": 16,
   "id": "5d81b4bf",
   "metadata": {},
   "outputs": [
    {
     "name": "stdout",
     "output_type": "stream",
     "text": [
      "<class 'pandas.core.frame.DataFrame'>\n",
      "Int64Index: 20709 entries, 40575 to 80325\n",
      "Data columns (total 18 columns):\n",
      " #   Column                              Non-Null Count  Dtype \n",
      "---  ------                              --------------  ----- \n",
      " 0   Year                                20709 non-null  int64 \n",
      " 1   Age                                 20709 non-null  object\n",
      " 2   Gender                              20709 non-null  object\n",
      " 3   Country                             20709 non-null  object\n",
      " 4   Degree                              20709 non-null  object\n",
      " 5   Job Title                           20709 non-null  object\n",
      " 6   Company Size                        20709 non-null  object\n",
      " 7   Team Size                           20709 non-null  object\n",
      " 8   ML Status in Company                20709 non-null  object\n",
      " 9   Compensation Status                 20709 non-null  object\n",
      " 10  Money Spent                         20709 non-null  object\n",
      " 11  Current role experience (in years)  20709 non-null  object\n",
      " 12  Programming language choice         20709 non-null  object\n",
      " 13  Recommend Programming language      20709 non-null  object\n",
      " 14  Coding experience (in years)        20709 non-null  object\n",
      " 15  Specialised HW                      20709 non-null  object\n",
      " 16  TPU Usage                           20709 non-null  object\n",
      " 17  ML Methods experience (in years)    20709 non-null  object\n",
      "dtypes: int64(1), object(17)\n",
      "memory usage: 3.0+ MB\n"
     ]
    }
   ],
   "source": [
    "filtered_df.info()"
   ]
  },
  {
   "cell_type": "markdown",
   "id": "1c6ca6f1",
   "metadata": {},
   "source": [
    "### About 2000 entries were removed"
   ]
  },
  {
   "cell_type": "code",
   "execution_count": 17,
   "id": "c6ba04db",
   "metadata": {},
   "outputs": [],
   "source": [
    "# Change the age column format to remove ranges and find the average\n",
    "def parse_age(age):\n",
    "    if '-' in age:\n",
    "        low, high = age.replace(',', '').split('-')\n",
    "    elif '>' in age:\n",
    "        # Extract the numeric part after '>'\n",
    "        low = age.replace(',', '').strip()\n",
    "    else:\n",
    "        # Handle other cases if needed\n",
    "        low = high = age\n",
    "\n",
    "    return pd.Series([low, high], index=['Low Age', 'High Age'])\n",
    "\n",
    "# Apply the function to the 'Compensation Status' column\n",
    "filtered_df[['Low Age', 'High Age']] = filtered_df['Age'].apply(parse_age)\n",
    "\n",
    "# Convert 'Low Range' and 'High Range' to numeric types (floats or ints)\n",
    "filtered_df['Low Age'] = pd.to_numeric(filtered_df['Low Age'], errors='coerce')\n",
    "filtered_df['High Age'] = pd.to_numeric(filtered_df['High Age'], errors='coerce')"
   ]
  },
  {
   "cell_type": "code",
   "execution_count": 18,
   "id": "88c0fc43",
   "metadata": {},
   "outputs": [],
   "source": [
    "# Calculate the average of low and high range age\n",
    "filtered_df['Average Age'] = (filtered_df['Low Age'] +  filtered_df['High Age']) / 2"
   ]
  },
  {
   "cell_type": "code",
   "execution_count": 19,
   "id": "7f747735",
   "metadata": {},
   "outputs": [],
   "source": [
    "# Drop the other age related column and keep average only\n",
    "filtered_df = filtered_df.drop(columns = ['Age','Low Age', 'High Age'])"
   ]
  },
  {
   "cell_type": "code",
   "execution_count": 20,
   "id": "a8d8d721",
   "metadata": {},
   "outputs": [],
   "source": [
    "# Parse the compensation column to split between low and high range salaries\n",
    "def parse_compensation(comp_range):\n",
    "    if '-' in comp_range:\n",
    "        low, high = comp_range.replace('$', '').replace(',', '').split('-')\n",
    "    elif '>' in comp_range:\n",
    "        # Extract the numeric part after '>'\n",
    "        low = comp_range.replace('>', '').replace('$', '').replace(',', '').strip()\n",
    "        high = None  # Set high range to None or you can use np.nan\n",
    "    else:\n",
    "        # Handle other cases if needed\n",
    "        low = high = None\n",
    "\n",
    "    return pd.Series([low, high], index=['Low Range Comp', 'High Range Comp'])\n",
    "\n",
    "# Apply the function to the 'Compensation Status' column\n",
    "filtered_df[['Low Range Comp', 'High Range Comp']] = filtered_df['Compensation Status'].apply(parse_compensation)\n",
    "\n",
    "# Convert 'Low Range' and 'High Range' to numeric types (floats or ints)\n",
    "filtered_df['Low Range Comp'] = pd.to_numeric(filtered_df['Low Range Comp'], errors='coerce')\n",
    "filtered_df['High Range Comp'] = pd.to_numeric(filtered_df['High Range Comp'], errors='coerce')"
   ]
  },
  {
   "cell_type": "code",
   "execution_count": 21,
   "id": "92bcec7d",
   "metadata": {},
   "outputs": [],
   "source": [
    "filtered_df['Average Comp'] = (filtered_df['Low Range Comp'] +  filtered_df['High Range Comp']) / 2"
   ]
  },
  {
   "cell_type": "code",
   "execution_count": 22,
   "id": "704d13a1",
   "metadata": {},
   "outputs": [],
   "source": [
    "filtered_df = filtered_df.drop(columns = 'Compensation Status')"
   ]
  },
  {
   "cell_type": "code",
   "execution_count": 23,
   "id": "bd725268",
   "metadata": {},
   "outputs": [
    {
     "data": {
      "text/html": [
       "<div>\n",
       "<style scoped>\n",
       "    .dataframe tbody tr th:only-of-type {\n",
       "        vertical-align: middle;\n",
       "    }\n",
       "\n",
       "    .dataframe tbody tr th {\n",
       "        vertical-align: top;\n",
       "    }\n",
       "\n",
       "    .dataframe thead th {\n",
       "        text-align: right;\n",
       "    }\n",
       "</style>\n",
       "<table border=\"1\" class=\"dataframe\">\n",
       "  <thead>\n",
       "    <tr style=\"text-align: right;\">\n",
       "      <th></th>\n",
       "      <th>Year</th>\n",
       "      <th>Gender</th>\n",
       "      <th>Country</th>\n",
       "      <th>Degree</th>\n",
       "      <th>Job Title</th>\n",
       "      <th>Company Size</th>\n",
       "      <th>Team Size</th>\n",
       "      <th>ML Status in Company</th>\n",
       "      <th>Money Spent</th>\n",
       "      <th>Current role experience (in years)</th>\n",
       "      <th>Programming language choice</th>\n",
       "      <th>Recommend Programming language</th>\n",
       "      <th>Coding experience (in years)</th>\n",
       "      <th>Specialised HW</th>\n",
       "      <th>TPU Usage</th>\n",
       "      <th>ML Methods experience (in years)</th>\n",
       "      <th>Average Age</th>\n",
       "      <th>Low Range Comp</th>\n",
       "      <th>High Range Comp</th>\n",
       "      <th>Average Comp</th>\n",
       "    </tr>\n",
       "  </thead>\n",
       "  <tbody>\n",
       "    <tr>\n",
       "      <th>40575</th>\n",
       "      <td>2019</td>\n",
       "      <td>Male</td>\n",
       "      <td>Algeria</td>\n",
       "      <td>Doctoral degree</td>\n",
       "      <td>Research Scientist</td>\n",
       "      <td>Unknown / Not Specified</td>\n",
       "      <td>250-999 employees</td>\n",
       "      <td>No (we do not use ML methods)</td>\n",
       "      <td>Unknown / Not Specified</td>\n",
       "      <td>Unknown / Not Specified</td>\n",
       "      <td>Unknown / Not Specified</td>\n",
       "      <td>C++</td>\n",
       "      <td>Unknown / Not Specified</td>\n",
       "      <td>Unknown / Not Specified</td>\n",
       "      <td>Never</td>\n",
       "      <td>&lt; 1 years</td>\n",
       "      <td>47.0</td>\n",
       "      <td>0</td>\n",
       "      <td>10000.0</td>\n",
       "      <td>5000.0</td>\n",
       "    </tr>\n",
       "    <tr>\n",
       "      <th>40576</th>\n",
       "      <td>2019</td>\n",
       "      <td>Male</td>\n",
       "      <td>Algeria</td>\n",
       "      <td>Bachelor’s degree</td>\n",
       "      <td>Software Engineer</td>\n",
       "      <td>Unknown / Not Specified</td>\n",
       "      <td>250-999 employees</td>\n",
       "      <td>We recently started using ML methods (i.e., mo...</td>\n",
       "      <td>Unknown / Not Specified</td>\n",
       "      <td>Unknown / Not Specified</td>\n",
       "      <td>Unknown / Not Specified</td>\n",
       "      <td>Python</td>\n",
       "      <td>Unknown / Not Specified</td>\n",
       "      <td>Unknown / Not Specified</td>\n",
       "      <td>Once</td>\n",
       "      <td>1-2 years</td>\n",
       "      <td>52.0</td>\n",
       "      <td>10001</td>\n",
       "      <td>20000.0</td>\n",
       "      <td>15000.5</td>\n",
       "    </tr>\n",
       "    <tr>\n",
       "      <th>40577</th>\n",
       "      <td>2019</td>\n",
       "      <td>Male</td>\n",
       "      <td>Algeria</td>\n",
       "      <td>Master’s degree</td>\n",
       "      <td>Other</td>\n",
       "      <td>Unknown / Not Specified</td>\n",
       "      <td>0-49 employees</td>\n",
       "      <td>No (we do not use ML methods)</td>\n",
       "      <td>Unknown / Not Specified</td>\n",
       "      <td>Unknown / Not Specified</td>\n",
       "      <td>Unknown / Not Specified</td>\n",
       "      <td>Python</td>\n",
       "      <td>Unknown / Not Specified</td>\n",
       "      <td>Unknown / Not Specified</td>\n",
       "      <td>Never</td>\n",
       "      <td>&lt; 1 years</td>\n",
       "      <td>37.0</td>\n",
       "      <td>0</td>\n",
       "      <td>10000.0</td>\n",
       "      <td>5000.0</td>\n",
       "    </tr>\n",
       "    <tr>\n",
       "      <th>40578</th>\n",
       "      <td>2019</td>\n",
       "      <td>Female</td>\n",
       "      <td>Algeria</td>\n",
       "      <td>Professional degree</td>\n",
       "      <td>Data Engineer</td>\n",
       "      <td>Unknown / Not Specified</td>\n",
       "      <td>250-999 employees</td>\n",
       "      <td>We recently started using ML methods (i.e., mo...</td>\n",
       "      <td>Unknown / Not Specified</td>\n",
       "      <td>Unknown / Not Specified</td>\n",
       "      <td>Unknown / Not Specified</td>\n",
       "      <td>Python</td>\n",
       "      <td>Unknown / Not Specified</td>\n",
       "      <td>Unknown / Not Specified</td>\n",
       "      <td>Never</td>\n",
       "      <td>10-15 years</td>\n",
       "      <td>42.0</td>\n",
       "      <td>10001</td>\n",
       "      <td>20000.0</td>\n",
       "      <td>15000.5</td>\n",
       "    </tr>\n",
       "    <tr>\n",
       "      <th>40579</th>\n",
       "      <td>2019</td>\n",
       "      <td>Male</td>\n",
       "      <td>Algeria</td>\n",
       "      <td>Bachelor’s degree</td>\n",
       "      <td>Product/Project Manager</td>\n",
       "      <td>Unknown / Not Specified</td>\n",
       "      <td>250-999 employees</td>\n",
       "      <td>We have well established ML methods (i.e., mod...</td>\n",
       "      <td>Unknown / Not Specified</td>\n",
       "      <td>Unknown / Not Specified</td>\n",
       "      <td>Unknown / Not Specified</td>\n",
       "      <td>Java</td>\n",
       "      <td>Unknown / Not Specified</td>\n",
       "      <td>Unknown / Not Specified</td>\n",
       "      <td>Once</td>\n",
       "      <td>1-2 years</td>\n",
       "      <td>27.0</td>\n",
       "      <td>0</td>\n",
       "      <td>10000.0</td>\n",
       "      <td>5000.0</td>\n",
       "    </tr>\n",
       "    <tr>\n",
       "      <th>40581</th>\n",
       "      <td>2019</td>\n",
       "      <td>Male</td>\n",
       "      <td>Algeria</td>\n",
       "      <td>Bachelor’s degree</td>\n",
       "      <td>Software Engineer</td>\n",
       "      <td>Unknown / Not Specified</td>\n",
       "      <td>0-49 employees</td>\n",
       "      <td>We are exploring ML methods (and may one day p...</td>\n",
       "      <td>Unknown / Not Specified</td>\n",
       "      <td>Unknown / Not Specified</td>\n",
       "      <td>Unknown / Not Specified</td>\n",
       "      <td>Python</td>\n",
       "      <td>Unknown / Not Specified</td>\n",
       "      <td>Unknown / Not Specified</td>\n",
       "      <td>Never</td>\n",
       "      <td>2-3 years</td>\n",
       "      <td>32.0</td>\n",
       "      <td>0</td>\n",
       "      <td>10000.0</td>\n",
       "      <td>5000.0</td>\n",
       "    </tr>\n",
       "    <tr>\n",
       "      <th>40582</th>\n",
       "      <td>2019</td>\n",
       "      <td>Male</td>\n",
       "      <td>Algeria</td>\n",
       "      <td>Master’s degree</td>\n",
       "      <td>Business Analyst</td>\n",
       "      <td>Unknown / Not Specified</td>\n",
       "      <td>50-249 employees</td>\n",
       "      <td>No (we do not use ML methods)</td>\n",
       "      <td>Unknown / Not Specified</td>\n",
       "      <td>Unknown / Not Specified</td>\n",
       "      <td>Unknown / Not Specified</td>\n",
       "      <td>Python</td>\n",
       "      <td>Unknown / Not Specified</td>\n",
       "      <td>Unknown / Not Specified</td>\n",
       "      <td>Never</td>\n",
       "      <td>3-4 years</td>\n",
       "      <td>42.0</td>\n",
       "      <td>10001</td>\n",
       "      <td>20000.0</td>\n",
       "      <td>15000.5</td>\n",
       "    </tr>\n",
       "    <tr>\n",
       "      <th>40583</th>\n",
       "      <td>2019</td>\n",
       "      <td>Male</td>\n",
       "      <td>Algeria</td>\n",
       "      <td>Bachelor’s degree</td>\n",
       "      <td>DBA/Database Engineer</td>\n",
       "      <td>Unknown / Not Specified</td>\n",
       "      <td>1000-9,999 employees</td>\n",
       "      <td>No (we do not use ML methods)</td>\n",
       "      <td>Unknown / Not Specified</td>\n",
       "      <td>Unknown / Not Specified</td>\n",
       "      <td>Unknown / Not Specified</td>\n",
       "      <td>Python</td>\n",
       "      <td>Unknown / Not Specified</td>\n",
       "      <td>Unknown / Not Specified</td>\n",
       "      <td>Never</td>\n",
       "      <td>&lt; 1 years</td>\n",
       "      <td>57.0</td>\n",
       "      <td>40000</td>\n",
       "      <td>49999.0</td>\n",
       "      <td>44999.5</td>\n",
       "    </tr>\n",
       "    <tr>\n",
       "      <th>40584</th>\n",
       "      <td>2019</td>\n",
       "      <td>Female</td>\n",
       "      <td>Algeria</td>\n",
       "      <td>Doctoral degree</td>\n",
       "      <td>Data Scientist</td>\n",
       "      <td>Unknown / Not Specified</td>\n",
       "      <td>50-249 employees</td>\n",
       "      <td>No (we do not use ML methods)</td>\n",
       "      <td>Unknown / Not Specified</td>\n",
       "      <td>Unknown / Not Specified</td>\n",
       "      <td>Unknown / Not Specified</td>\n",
       "      <td>Python</td>\n",
       "      <td>Unknown / Not Specified</td>\n",
       "      <td>Unknown / Not Specified</td>\n",
       "      <td>Never</td>\n",
       "      <td>1-2 years</td>\n",
       "      <td>23.0</td>\n",
       "      <td>0</td>\n",
       "      <td>10000.0</td>\n",
       "      <td>5000.0</td>\n",
       "    </tr>\n",
       "    <tr>\n",
       "      <th>40586</th>\n",
       "      <td>2019</td>\n",
       "      <td>Female</td>\n",
       "      <td>Algeria</td>\n",
       "      <td>Master’s degree</td>\n",
       "      <td>Research Scientist</td>\n",
       "      <td>Unknown / Not Specified</td>\n",
       "      <td>50-249 employees</td>\n",
       "      <td>No (we do not use ML methods)</td>\n",
       "      <td>Unknown / Not Specified</td>\n",
       "      <td>Unknown / Not Specified</td>\n",
       "      <td>Unknown / Not Specified</td>\n",
       "      <td>Python</td>\n",
       "      <td>Unknown / Not Specified</td>\n",
       "      <td>Unknown / Not Specified</td>\n",
       "      <td>Never</td>\n",
       "      <td>2-3 years</td>\n",
       "      <td>37.0</td>\n",
       "      <td>0</td>\n",
       "      <td>10000.0</td>\n",
       "      <td>5000.0</td>\n",
       "    </tr>\n",
       "  </tbody>\n",
       "</table>\n",
       "</div>"
      ],
      "text/plain": [
       "       Year  Gender  Country               Degree                Job Title  \\\n",
       "40575  2019    Male  Algeria      Doctoral degree       Research Scientist   \n",
       "40576  2019    Male  Algeria    Bachelor’s degree        Software Engineer   \n",
       "40577  2019    Male  Algeria      Master’s degree                    Other   \n",
       "40578  2019  Female  Algeria  Professional degree            Data Engineer   \n",
       "40579  2019    Male  Algeria    Bachelor’s degree  Product/Project Manager   \n",
       "40581  2019    Male  Algeria    Bachelor’s degree        Software Engineer   \n",
       "40582  2019    Male  Algeria      Master’s degree         Business Analyst   \n",
       "40583  2019    Male  Algeria    Bachelor’s degree    DBA/Database Engineer   \n",
       "40584  2019  Female  Algeria      Doctoral degree           Data Scientist   \n",
       "40586  2019  Female  Algeria      Master’s degree       Research Scientist   \n",
       "\n",
       "                  Company Size             Team Size  \\\n",
       "40575  Unknown / Not Specified     250-999 employees   \n",
       "40576  Unknown / Not Specified     250-999 employees   \n",
       "40577  Unknown / Not Specified        0-49 employees   \n",
       "40578  Unknown / Not Specified     250-999 employees   \n",
       "40579  Unknown / Not Specified     250-999 employees   \n",
       "40581  Unknown / Not Specified        0-49 employees   \n",
       "40582  Unknown / Not Specified      50-249 employees   \n",
       "40583  Unknown / Not Specified  1000-9,999 employees   \n",
       "40584  Unknown / Not Specified      50-249 employees   \n",
       "40586  Unknown / Not Specified      50-249 employees   \n",
       "\n",
       "                                    ML Status in Company  \\\n",
       "40575                      No (we do not use ML methods)   \n",
       "40576  We recently started using ML methods (i.e., mo...   \n",
       "40577                      No (we do not use ML methods)   \n",
       "40578  We recently started using ML methods (i.e., mo...   \n",
       "40579  We have well established ML methods (i.e., mod...   \n",
       "40581  We are exploring ML methods (and may one day p...   \n",
       "40582                      No (we do not use ML methods)   \n",
       "40583                      No (we do not use ML methods)   \n",
       "40584                      No (we do not use ML methods)   \n",
       "40586                      No (we do not use ML methods)   \n",
       "\n",
       "                   Money Spent Current role experience (in years)  \\\n",
       "40575  Unknown / Not Specified            Unknown / Not Specified   \n",
       "40576  Unknown / Not Specified            Unknown / Not Specified   \n",
       "40577  Unknown / Not Specified            Unknown / Not Specified   \n",
       "40578  Unknown / Not Specified            Unknown / Not Specified   \n",
       "40579  Unknown / Not Specified            Unknown / Not Specified   \n",
       "40581  Unknown / Not Specified            Unknown / Not Specified   \n",
       "40582  Unknown / Not Specified            Unknown / Not Specified   \n",
       "40583  Unknown / Not Specified            Unknown / Not Specified   \n",
       "40584  Unknown / Not Specified            Unknown / Not Specified   \n",
       "40586  Unknown / Not Specified            Unknown / Not Specified   \n",
       "\n",
       "      Programming language choice Recommend Programming language  \\\n",
       "40575     Unknown / Not Specified                            C++   \n",
       "40576     Unknown / Not Specified                         Python   \n",
       "40577     Unknown / Not Specified                         Python   \n",
       "40578     Unknown / Not Specified                         Python   \n",
       "40579     Unknown / Not Specified                           Java   \n",
       "40581     Unknown / Not Specified                         Python   \n",
       "40582     Unknown / Not Specified                         Python   \n",
       "40583     Unknown / Not Specified                         Python   \n",
       "40584     Unknown / Not Specified                         Python   \n",
       "40586     Unknown / Not Specified                         Python   \n",
       "\n",
       "      Coding experience (in years)           Specialised HW TPU Usage  \\\n",
       "40575      Unknown / Not Specified  Unknown / Not Specified     Never   \n",
       "40576      Unknown / Not Specified  Unknown / Not Specified      Once   \n",
       "40577      Unknown / Not Specified  Unknown / Not Specified     Never   \n",
       "40578      Unknown / Not Specified  Unknown / Not Specified     Never   \n",
       "40579      Unknown / Not Specified  Unknown / Not Specified      Once   \n",
       "40581      Unknown / Not Specified  Unknown / Not Specified     Never   \n",
       "40582      Unknown / Not Specified  Unknown / Not Specified     Never   \n",
       "40583      Unknown / Not Specified  Unknown / Not Specified     Never   \n",
       "40584      Unknown / Not Specified  Unknown / Not Specified     Never   \n",
       "40586      Unknown / Not Specified  Unknown / Not Specified     Never   \n",
       "\n",
       "      ML Methods experience (in years)  Average Age  Low Range Comp  \\\n",
       "40575                        < 1 years         47.0               0   \n",
       "40576                        1-2 years         52.0           10001   \n",
       "40577                        < 1 years         37.0               0   \n",
       "40578                      10-15 years         42.0           10001   \n",
       "40579                        1-2 years         27.0               0   \n",
       "40581                        2-3 years         32.0               0   \n",
       "40582                        3-4 years         42.0           10001   \n",
       "40583                        < 1 years         57.0           40000   \n",
       "40584                        1-2 years         23.0               0   \n",
       "40586                        2-3 years         37.0               0   \n",
       "\n",
       "       High Range Comp  Average Comp  \n",
       "40575          10000.0        5000.0  \n",
       "40576          20000.0       15000.5  \n",
       "40577          10000.0        5000.0  \n",
       "40578          20000.0       15000.5  \n",
       "40579          10000.0        5000.0  \n",
       "40581          10000.0        5000.0  \n",
       "40582          20000.0       15000.5  \n",
       "40583          49999.0       44999.5  \n",
       "40584          10000.0        5000.0  \n",
       "40586          10000.0        5000.0  "
      ]
     },
     "execution_count": 23,
     "metadata": {},
     "output_type": "execute_result"
    }
   ],
   "source": [
    "filtered_df.head(10)"
   ]
  },
  {
   "cell_type": "markdown",
   "id": "63f991aa",
   "metadata": {},
   "source": [
    "### Analyze the content in columns - Current role experience (in years), Money Spent, Programming language of choice, Coding experience (in years), Specialised HW"
   ]
  },
  {
   "cell_type": "code",
   "execution_count": 25,
   "id": "dd6ace7f",
   "metadata": {},
   "outputs": [
    {
     "data": {
      "text/plain": [
       "Unknown / Not Specified    10675\n",
       "$0 ($USD)                   3590\n",
       "$1000-$9,999                1778\n",
       "$100-$999                   1688\n",
       "$1-$99                      1235\n",
       "$10,000-$99,999             1047\n",
       "$100,000 or more ($USD)      696\n",
       "Name: Money Spent, dtype: int64"
      ]
     },
     "execution_count": 25,
     "metadata": {},
     "output_type": "execute_result"
    }
   ],
   "source": [
    "filtered_df['Money Spent'].value_counts()"
   ]
  },
  {
   "cell_type": "code",
   "execution_count": 42,
   "id": "23729f13",
   "metadata": {},
   "outputs": [
    {
     "name": "stdout",
     "output_type": "stream",
     "text": [
      "F-statistic: 272.3484008627941\n",
      "p-value: 0.0\n"
     ]
    }
   ],
   "source": [
    "f_statistic, p_value = f_oneway(*(filtered_df[filtered_df['Money Spent'] == category]['Average Comp'] for category in filtered_df['Money Spent'].unique()))\n",
    "print(\"F-statistic:\", f_statistic)\n",
    "print(\"p-value:\", p_value)"
   ]
  },
  {
   "cell_type": "code",
   "execution_count": 26,
   "id": "0e638451",
   "metadata": {},
   "outputs": [
    {
     "data": {
      "text/plain": [
       "Unknown / Not Specified    20709\n",
       "Name: Current role experience (in years), dtype: int64"
      ]
     },
     "execution_count": 26,
     "metadata": {},
     "output_type": "execute_result"
    }
   ],
   "source": [
    "filtered_df['Current role experience (in years)'].value_counts()"
   ]
  },
  {
   "cell_type": "markdown",
   "id": "daeadaee",
   "metadata": {},
   "source": [
    "## Current role experience (in years) can be dropped "
   ]
  },
  {
   "cell_type": "code",
   "execution_count": 27,
   "id": "8bcc46e4",
   "metadata": {},
   "outputs": [],
   "source": [
    "filtered_df.drop(columns = 'Current role experience (in years)', inplace = True)"
   ]
  },
  {
   "cell_type": "code",
   "execution_count": 28,
   "id": "5e857191",
   "metadata": {},
   "outputs": [
    {
     "data": {
      "text/plain": [
       "Unknown / Not Specified    20709\n",
       "Name: Programming language choice, dtype: int64"
      ]
     },
     "execution_count": 28,
     "metadata": {},
     "output_type": "execute_result"
    }
   ],
   "source": [
    "filtered_df['Programming language choice'].value_counts()"
   ]
  },
  {
   "cell_type": "markdown",
   "id": "a8ad4b0d",
   "metadata": {},
   "source": [
    "## Programming language choice can be dropped "
   ]
  },
  {
   "cell_type": "code",
   "execution_count": 34,
   "id": "afcf9121",
   "metadata": {},
   "outputs": [],
   "source": [
    "filtered_df.drop(columns = 'Programming language choice', inplace = True)"
   ]
  },
  {
   "cell_type": "code",
   "execution_count": 30,
   "id": "f8986c72",
   "metadata": {},
   "outputs": [
    {
     "data": {
      "text/plain": [
       "Unknown / Not Specified    20709\n",
       "Name: Specialised HW, dtype: int64"
      ]
     },
     "execution_count": 30,
     "metadata": {},
     "output_type": "execute_result"
    }
   ],
   "source": [
    "filtered_df['Specialised HW'].value_counts()"
   ]
  },
  {
   "cell_type": "markdown",
   "id": "7d8ccd04",
   "metadata": {},
   "source": [
    "## Specialised HW can be dropped "
   ]
  },
  {
   "cell_type": "code",
   "execution_count": 31,
   "id": "8d574925",
   "metadata": {},
   "outputs": [],
   "source": [
    "filtered_df.drop(columns = 'Specialised HW', inplace = True)"
   ]
  },
  {
   "cell_type": "code",
   "execution_count": 36,
   "id": "cdf8ccd2",
   "metadata": {
    "scrolled": false
   },
   "outputs": [
    {
     "data": {
      "text/plain": [
       "Unknown / Not Specified     10541\n",
       "0-49 employees               3642\n",
       "10,000 or more employees     2016\n",
       "1000-9,999 employees         1757\n",
       "50-249 employees             1515\n",
       "250-999 employees            1238\n",
       "Name: Company Size, dtype: int64"
      ]
     },
     "execution_count": 36,
     "metadata": {},
     "output_type": "execute_result"
    }
   ],
   "source": [
    "filtered_df['Company Size'].value_counts()"
   ]
  },
  {
   "cell_type": "code",
   "execution_count": 40,
   "id": "ced1b0ee",
   "metadata": {},
   "outputs": [],
   "source": [
    "from scipy.stats import f_oneway"
   ]
  },
  {
   "cell_type": "code",
   "execution_count": 41,
   "id": "22a30f83",
   "metadata": {},
   "outputs": [
    {
     "name": "stdout",
     "output_type": "stream",
     "text": [
      "F-statistic: 86.84609821628352\n",
      "p-value: 1.133024060611531e-90\n"
     ]
    }
   ],
   "source": [
    "f_statistic, p_value = f_oneway(*(filtered_df[filtered_df['Company Size'] == category]['Average Comp'] for category in filtered_df['Company Size'].unique()))\n",
    "print(\"F-statistic:\", f_statistic)\n",
    "print(\"p-value:\", p_value)"
   ]
  },
  {
   "cell_type": "code",
   "execution_count": 44,
   "id": "85de5d0d",
   "metadata": {},
   "outputs": [
    {
     "name": "stdout",
     "output_type": "stream",
     "text": [
      "F-statistic: 86.98922660660382\n",
      "p-value: 1.3571092845479942e-193\n"
     ]
    }
   ],
   "source": [
    "f_statistic, p_value = f_oneway(*(filtered_df[filtered_df['Team Size'] == category]['Average Comp'] for category in filtered_df['Team Size'].unique()))\n",
    "print(\"F-statistic:\", f_statistic)\n",
    "print(\"p-value:\", p_value)"
   ]
  },
  {
   "cell_type": "code",
   "execution_count": 46,
   "id": "985b4fa9",
   "metadata": {},
   "outputs": [],
   "source": [
    "count_unknown = filtered_df[(filtered_df['Money Spent'] == 'Unknown / Not Specified') & \n",
    "                            (filtered_df['Company Size'] == 'Unknown / Not Specified')].shape[0]\n"
   ]
  },
  {
   "cell_type": "code",
   "execution_count": 47,
   "id": "5d4ac70a",
   "metadata": {},
   "outputs": [
    {
     "data": {
      "text/plain": [
       "10541"
      ]
     },
     "execution_count": 47,
     "metadata": {},
     "output_type": "execute_result"
    }
   ],
   "source": [
    "count_unknown"
   ]
  },
  {
   "cell_type": "code",
   "execution_count": 49,
   "id": "faa67f92",
   "metadata": {},
   "outputs": [],
   "source": [
    "filtered_df = filtered_df[~((filtered_df['Money Spent'] == 'Unknown / Not Specified') & \n",
    "                            (filtered_df['Company Size'] == 'Unknown / Not Specified'))]"
   ]
  },
  {
   "cell_type": "code",
   "execution_count": 57,
   "id": "6e6b02ec",
   "metadata": {},
   "outputs": [
    {
     "name": "stderr",
     "output_type": "stream",
     "text": [
      "D:\\Users\\Pasha\\anaconda3\\lib\\site-packages\\pandas\\core\\frame.py:4906: SettingWithCopyWarning: \n",
      "A value is trying to be set on a copy of a slice from a DataFrame\n",
      "\n",
      "See the caveats in the documentation: https://pandas.pydata.org/pandas-docs/stable/user_guide/indexing.html#returning-a-view-versus-a-copy\n",
      "  return super().drop(\n"
     ]
    }
   ],
   "source": [
    "filtered_df.drop(columns = ['Low Range Comp', 'High Range Comp'], inplace = True)"
   ]
  },
  {
   "cell_type": "code",
   "execution_count": 58,
   "id": "f4ba970f",
   "metadata": {
    "scrolled": false
   },
   "outputs": [
    {
     "name": "stdout",
     "output_type": "stream",
     "text": [
      "<class 'pandas.core.frame.DataFrame'>\n",
      "Int64Index: 10168 entries, 60291 to 80325\n",
      "Data columns (total 14 columns):\n",
      " #   Column                            Non-Null Count  Dtype  \n",
      "---  ------                            --------------  -----  \n",
      " 0   Year                              10168 non-null  int64  \n",
      " 1   Gender                            10168 non-null  object \n",
      " 2   Country                           10168 non-null  object \n",
      " 3   Degree                            10168 non-null  object \n",
      " 4   Job Title                         10168 non-null  object \n",
      " 5   Company Size                      10168 non-null  object \n",
      " 6   Team Size                         10168 non-null  object \n",
      " 7   ML Status in Company              10168 non-null  object \n",
      " 8   Money Spent                       10168 non-null  object \n",
      " 9   Recommend Programming language    10168 non-null  object \n",
      " 10  TPU Usage                         10168 non-null  object \n",
      " 11  ML Methods experience (in years)  10168 non-null  object \n",
      " 12  Average Age                       10118 non-null  float64\n",
      " 13  Average Comp                      10168 non-null  float64\n",
      "dtypes: float64(2), int64(1), object(11)\n",
      "memory usage: 1.2+ MB\n"
     ]
    }
   ],
   "source": [
    "filtered_df.info()"
   ]
  },
  {
   "cell_type": "code",
   "execution_count": 51,
   "id": "e110b446",
   "metadata": {},
   "outputs": [
    {
     "name": "stderr",
     "output_type": "stream",
     "text": [
      "C:\\Users\\Pasha\\AppData\\Local\\Temp\\ipykernel_64760\\3605177292.py:2: SettingWithCopyWarning: \n",
      "A value is trying to be set on a copy of a slice from a DataFrame.\n",
      "Try using .loc[row_indexer,col_indexer] = value instead\n",
      "\n",
      "See the caveats in the documentation: https://pandas.pydata.org/pandas-docs/stable/user_guide/indexing.html#returning-a-view-versus-a-copy\n",
      "  filtered_df['Average Comp'] = filtered_df['Average Comp'].fillna(filtered_df['Low Range Comp'])\n",
      "C:\\Users\\Pasha\\AppData\\Local\\Temp\\ipykernel_64760\\3605177292.py:3: SettingWithCopyWarning: \n",
      "A value is trying to be set on a copy of a slice from a DataFrame.\n",
      "Try using .loc[row_indexer,col_indexer] = value instead\n",
      "\n",
      "See the caveats in the documentation: https://pandas.pydata.org/pandas-docs/stable/user_guide/indexing.html#returning-a-view-versus-a-copy\n",
      "  filtered_df['High Range Comp'] = filtered_df['High Range Comp'].fillna(filtered_df['Low Range Comp'])\n"
     ]
    }
   ],
   "source": [
    "# Fill the missing average comp value with low range comp.\n",
    "filtered_df['Average Comp'] = filtered_df['Average Comp'].fillna(filtered_df['Low Range Comp'])  \n",
    "filtered_df['High Range Comp'] = filtered_df['High Range Comp'].fillna(filtered_df['Low Range Comp'])  "
   ]
  },
  {
   "cell_type": "code",
   "execution_count": 59,
   "id": "e5d5bd76",
   "metadata": {},
   "outputs": [
    {
     "data": {
      "text/html": [
       "<div>\n",
       "<style scoped>\n",
       "    .dataframe tbody tr th:only-of-type {\n",
       "        vertical-align: middle;\n",
       "    }\n",
       "\n",
       "    .dataframe tbody tr th {\n",
       "        vertical-align: top;\n",
       "    }\n",
       "\n",
       "    .dataframe thead th {\n",
       "        text-align: right;\n",
       "    }\n",
       "</style>\n",
       "<table border=\"1\" class=\"dataframe\">\n",
       "  <thead>\n",
       "    <tr style=\"text-align: right;\">\n",
       "      <th></th>\n",
       "      <th>Year</th>\n",
       "      <th>Gender</th>\n",
       "      <th>Country</th>\n",
       "      <th>Degree</th>\n",
       "      <th>Job Title</th>\n",
       "      <th>Company Size</th>\n",
       "      <th>Team Size</th>\n",
       "      <th>ML Status in Company</th>\n",
       "      <th>Money Spent</th>\n",
       "      <th>Recommend Programming language</th>\n",
       "      <th>TPU Usage</th>\n",
       "      <th>ML Methods experience (in years)</th>\n",
       "      <th>Average Age</th>\n",
       "      <th>Average Comp</th>\n",
       "    </tr>\n",
       "  </thead>\n",
       "  <tbody>\n",
       "    <tr>\n",
       "      <th>60291</th>\n",
       "      <td>2020</td>\n",
       "      <td>Male</td>\n",
       "      <td>Argentina</td>\n",
       "      <td>Bachelor’s degree</td>\n",
       "      <td>Software Engineer</td>\n",
       "      <td>1000-9,999 employees</td>\n",
       "      <td>0</td>\n",
       "      <td>No (we do not use ML methods)</td>\n",
       "      <td>$0 ($USD)</td>\n",
       "      <td>R</td>\n",
       "      <td>Never</td>\n",
       "      <td>I do not use machine learning methods</td>\n",
       "      <td>37.0</td>\n",
       "      <td>15000.5</td>\n",
       "    </tr>\n",
       "    <tr>\n",
       "      <th>60293</th>\n",
       "      <td>2020</td>\n",
       "      <td>Female</td>\n",
       "      <td>Argentina</td>\n",
       "      <td>Bachelor’s degree</td>\n",
       "      <td>Data Scientist</td>\n",
       "      <td>0-49 employees</td>\n",
       "      <td>1-2</td>\n",
       "      <td>We have well established ML methods (i.e., mod...</td>\n",
       "      <td>$10,000-$99,999</td>\n",
       "      <td>Python</td>\n",
       "      <td>Never</td>\n",
       "      <td>5-10 years</td>\n",
       "      <td>37.0</td>\n",
       "      <td>84999.5</td>\n",
       "    </tr>\n",
       "    <tr>\n",
       "      <th>60294</th>\n",
       "      <td>2020</td>\n",
       "      <td>Female</td>\n",
       "      <td>Argentina</td>\n",
       "      <td>Bachelor’s degree</td>\n",
       "      <td>Software Engineer</td>\n",
       "      <td>250-999 employees</td>\n",
       "      <td>0</td>\n",
       "      <td>I do not know</td>\n",
       "      <td>$0 ($USD)</td>\n",
       "      <td>Python</td>\n",
       "      <td>Never</td>\n",
       "      <td>I do not use machine learning methods</td>\n",
       "      <td>42.0</td>\n",
       "      <td>15000.5</td>\n",
       "    </tr>\n",
       "    <tr>\n",
       "      <th>60296</th>\n",
       "      <td>2020</td>\n",
       "      <td>Female</td>\n",
       "      <td>Argentina</td>\n",
       "      <td>Master’s degree</td>\n",
       "      <td>Business Analyst</td>\n",
       "      <td>50-249 employees</td>\n",
       "      <td>0</td>\n",
       "      <td>No (we do not use ML methods)</td>\n",
       "      <td>$100-$999</td>\n",
       "      <td>Python</td>\n",
       "      <td>Never</td>\n",
       "      <td>Under 1 year</td>\n",
       "      <td>37.0</td>\n",
       "      <td>5000.0</td>\n",
       "    </tr>\n",
       "    <tr>\n",
       "      <th>60300</th>\n",
       "      <td>2020</td>\n",
       "      <td>Male</td>\n",
       "      <td>Argentina</td>\n",
       "      <td>Some college/university study without earning ...</td>\n",
       "      <td>Software Engineer</td>\n",
       "      <td>0-49 employees</td>\n",
       "      <td>1-2</td>\n",
       "      <td>We are exploring ML methods (and may one day p...</td>\n",
       "      <td>$0 ($USD)</td>\n",
       "      <td>Python</td>\n",
       "      <td>Once</td>\n",
       "      <td>Under 1 year</td>\n",
       "      <td>42.0</td>\n",
       "      <td>15000.5</td>\n",
       "    </tr>\n",
       "    <tr>\n",
       "      <th>60301</th>\n",
       "      <td>2020</td>\n",
       "      <td>Male</td>\n",
       "      <td>Argentina</td>\n",
       "      <td>Master’s degree</td>\n",
       "      <td>Machine Learning Engineer</td>\n",
       "      <td>1000-9,999 employees</td>\n",
       "      <td>20+</td>\n",
       "      <td>We recently started using ML methods (i.e., mo...</td>\n",
       "      <td>$10,000-$99,999</td>\n",
       "      <td>Python</td>\n",
       "      <td>6-25 times</td>\n",
       "      <td>4-5 years</td>\n",
       "      <td>27.0</td>\n",
       "      <td>15000.5</td>\n",
       "    </tr>\n",
       "    <tr>\n",
       "      <th>60306</th>\n",
       "      <td>2020</td>\n",
       "      <td>Male</td>\n",
       "      <td>Argentina</td>\n",
       "      <td>Master’s degree</td>\n",
       "      <td>Data Analyst</td>\n",
       "      <td>0-49 employees</td>\n",
       "      <td>1-2</td>\n",
       "      <td>We use ML methods for generating insights (but...</td>\n",
       "      <td>$100-$999</td>\n",
       "      <td>Python</td>\n",
       "      <td>2-5 times</td>\n",
       "      <td>1-2 years</td>\n",
       "      <td>42.0</td>\n",
       "      <td>44999.5</td>\n",
       "    </tr>\n",
       "    <tr>\n",
       "      <th>60307</th>\n",
       "      <td>2020</td>\n",
       "      <td>Male</td>\n",
       "      <td>Argentina</td>\n",
       "      <td>Doctoral degree</td>\n",
       "      <td>Data Analyst</td>\n",
       "      <td>0-49 employees</td>\n",
       "      <td>1-2</td>\n",
       "      <td>No (we do not use ML methods)</td>\n",
       "      <td>$100-$999</td>\n",
       "      <td>Python</td>\n",
       "      <td>Once</td>\n",
       "      <td>4-5 years</td>\n",
       "      <td>52.0</td>\n",
       "      <td>5000.0</td>\n",
       "    </tr>\n",
       "    <tr>\n",
       "      <th>60308</th>\n",
       "      <td>2020</td>\n",
       "      <td>Male</td>\n",
       "      <td>Argentina</td>\n",
       "      <td>Doctoral degree</td>\n",
       "      <td>Machine Learning Engineer</td>\n",
       "      <td>50-249 employees</td>\n",
       "      <td>1-2</td>\n",
       "      <td>We recently started using ML methods (i.e., mo...</td>\n",
       "      <td>$1000-$9,999</td>\n",
       "      <td>Python</td>\n",
       "      <td>Never</td>\n",
       "      <td>5-10 years</td>\n",
       "      <td>32.0</td>\n",
       "      <td>25000.5</td>\n",
       "    </tr>\n",
       "    <tr>\n",
       "      <th>60310</th>\n",
       "      <td>2020</td>\n",
       "      <td>Male</td>\n",
       "      <td>Argentina</td>\n",
       "      <td>Bachelor’s degree</td>\n",
       "      <td>Software Engineer</td>\n",
       "      <td>0-49 employees</td>\n",
       "      <td>1-2</td>\n",
       "      <td>We are exploring ML methods (and may one day p...</td>\n",
       "      <td>$1-$99</td>\n",
       "      <td>Python</td>\n",
       "      <td>Never</td>\n",
       "      <td>2-3 years</td>\n",
       "      <td>52.0</td>\n",
       "      <td>15000.5</td>\n",
       "    </tr>\n",
       "  </tbody>\n",
       "</table>\n",
       "</div>"
      ],
      "text/plain": [
       "       Year  Gender    Country  \\\n",
       "60291  2020    Male  Argentina   \n",
       "60293  2020  Female  Argentina   \n",
       "60294  2020  Female  Argentina   \n",
       "60296  2020  Female  Argentina   \n",
       "60300  2020    Male  Argentina   \n",
       "60301  2020    Male  Argentina   \n",
       "60306  2020    Male  Argentina   \n",
       "60307  2020    Male  Argentina   \n",
       "60308  2020    Male  Argentina   \n",
       "60310  2020    Male  Argentina   \n",
       "\n",
       "                                                  Degree  \\\n",
       "60291                                  Bachelor’s degree   \n",
       "60293                                  Bachelor’s degree   \n",
       "60294                                  Bachelor’s degree   \n",
       "60296                                    Master’s degree   \n",
       "60300  Some college/university study without earning ...   \n",
       "60301                                    Master’s degree   \n",
       "60306                                    Master’s degree   \n",
       "60307                                    Doctoral degree   \n",
       "60308                                    Doctoral degree   \n",
       "60310                                  Bachelor’s degree   \n",
       "\n",
       "                       Job Title          Company Size Team Size  \\\n",
       "60291          Software Engineer  1000-9,999 employees         0   \n",
       "60293             Data Scientist        0-49 employees       1-2   \n",
       "60294          Software Engineer     250-999 employees         0   \n",
       "60296           Business Analyst      50-249 employees         0   \n",
       "60300          Software Engineer        0-49 employees       1-2   \n",
       "60301  Machine Learning Engineer  1000-9,999 employees       20+   \n",
       "60306               Data Analyst        0-49 employees       1-2   \n",
       "60307               Data Analyst        0-49 employees       1-2   \n",
       "60308  Machine Learning Engineer      50-249 employees       1-2   \n",
       "60310          Software Engineer        0-49 employees       1-2   \n",
       "\n",
       "                                    ML Status in Company      Money Spent  \\\n",
       "60291                      No (we do not use ML methods)        $0 ($USD)   \n",
       "60293  We have well established ML methods (i.e., mod...  $10,000-$99,999   \n",
       "60294                                      I do not know        $0 ($USD)   \n",
       "60296                      No (we do not use ML methods)        $100-$999   \n",
       "60300  We are exploring ML methods (and may one day p...        $0 ($USD)   \n",
       "60301  We recently started using ML methods (i.e., mo...  $10,000-$99,999   \n",
       "60306  We use ML methods for generating insights (but...        $100-$999   \n",
       "60307                      No (we do not use ML methods)        $100-$999   \n",
       "60308  We recently started using ML methods (i.e., mo...     $1000-$9,999   \n",
       "60310  We are exploring ML methods (and may one day p...           $1-$99   \n",
       "\n",
       "      Recommend Programming language   TPU Usage  \\\n",
       "60291                              R       Never   \n",
       "60293                         Python       Never   \n",
       "60294                         Python       Never   \n",
       "60296                         Python       Never   \n",
       "60300                         Python        Once   \n",
       "60301                         Python  6-25 times   \n",
       "60306                         Python   2-5 times   \n",
       "60307                         Python        Once   \n",
       "60308                         Python       Never   \n",
       "60310                         Python       Never   \n",
       "\n",
       "            ML Methods experience (in years)  Average Age  Average Comp  \n",
       "60291  I do not use machine learning methods         37.0       15000.5  \n",
       "60293                             5-10 years         37.0       84999.5  \n",
       "60294  I do not use machine learning methods         42.0       15000.5  \n",
       "60296                           Under 1 year         37.0        5000.0  \n",
       "60300                           Under 1 year         42.0       15000.5  \n",
       "60301                              4-5 years         27.0       15000.5  \n",
       "60306                              1-2 years         42.0       44999.5  \n",
       "60307                              4-5 years         52.0        5000.0  \n",
       "60308                             5-10 years         32.0       25000.5  \n",
       "60310                              2-3 years         52.0       15000.5  "
      ]
     },
     "execution_count": 59,
     "metadata": {},
     "output_type": "execute_result"
    }
   ],
   "source": [
    "# Display first 10 rows \n",
    "filtered_df.head(10)"
   ]
  },
  {
   "cell_type": "markdown",
   "id": "62840f0e",
   "metadata": {},
   "source": [
    "## Features Analysis"
   ]
  },
  {
   "cell_type": "code",
   "execution_count": 60,
   "id": "a6f97dfe",
   "metadata": {},
   "outputs": [
    {
     "data": {
      "text/plain": [
       "Index(['Year', 'Gender', 'Country', 'Degree', 'Job Title', 'Company Size',\n",
       "       'Team Size', 'ML Status in Company', 'Money Spent',\n",
       "       'Recommend Programming language', 'TPU Usage',\n",
       "       'ML Methods experience (in years)', 'Average Age'],\n",
       "      dtype='object')"
      ]
     },
     "execution_count": 60,
     "metadata": {},
     "output_type": "execute_result"
    }
   ],
   "source": [
    "filtered_df.columns[:-1]"
   ]
  },
  {
   "cell_type": "code",
   "execution_count": 63,
   "id": "ad0994ec",
   "metadata": {},
   "outputs": [
    {
     "name": "stdout",
     "output_type": "stream",
     "text": [
      "ANOVA results for 'Gender':\n",
      "{'F-statistic': 17.50782113266976, 'p-value': 2.504071961466291e-14}\n",
      "\n",
      "ANOVA results for 'Country':\n",
      "{'F-statistic': 91.09270671931516, 'p-value': 0.0}\n",
      "\n",
      "ANOVA results for 'Degree':\n",
      "{'F-statistic': 43.44977067868963, 'p-value': 1.0426599320111108e-52}\n",
      "\n",
      "ANOVA results for 'Job Title':\n",
      "{'F-statistic': 20.524810126470722, 'p-value': 3.3362216071612484e-38}\n",
      "\n",
      "ANOVA results for 'Company Size':\n",
      "{'F-statistic': 93.81849219700749, 'p-value': 1.7327715969762043e-78}\n",
      "\n",
      "ANOVA results for 'Team Size':\n",
      "{'F-statistic': 101.81470298059293, 'p-value': 6.355949768311344e-125}\n",
      "\n",
      "ANOVA results for 'ML Status in Company':\n",
      "{'F-statistic': 142.4390259248187, 'p-value': 1.5455022547128194e-146}\n",
      "\n",
      "ANOVA results for 'Money Spent':\n",
      "{'F-statistic': 293.6946519006449, 'p-value': 0.0}\n",
      "\n",
      "ANOVA results for 'Recommend Programming language':\n",
      "{'F-statistic': 4.584868845835112, 'p-value': 1.888572910325122e-07}\n",
      "\n",
      "ANOVA results for 'TPU Usage':\n",
      "{'F-statistic': 9.420785022392765, 'p-value': 1.3439804157012292e-07}\n",
      "\n",
      "ANOVA results for 'ML Methods experience (in years)':\n",
      "{'F-statistic': 173.06192946692323, 'p-value': 5.43910166338916e-275}\n",
      "\n",
      "ANOVA results for 'Average Age':\n",
      "{'F-statistic': nan, 'p-value': nan}\n",
      "\n"
     ]
    },
    {
     "name": "stderr",
     "output_type": "stream",
     "text": [
      "D:\\Users\\Pasha\\anaconda3\\lib\\site-packages\\scipy\\stats\\_stats_py.py:3869: DegenerateDataWarning: at least one input has length 0\n",
      "  warnings.warn(stats.DegenerateDataWarning('at least one input '\n"
     ]
    }
   ],
   "source": [
    "nova_results = {}\n",
    "for col in filtered_df.columns[:-1]:  # Exclude the target variable\n",
    "    unique_values = filtered_df[col].unique()\n",
    "    if len(unique_values) > 1:  # Check if there's more than one unique value\n",
    "        f_statistic, p_value = f_oneway(*(filtered_df[filtered_df[col] == val]['Average Comp'] for val in unique_values))\n",
    "        anova_results[col] = {'F-statistic': f_statistic, 'p-value': p_value}\n",
    "\n",
    "# Print ANOVA results\n",
    "for col, result in anova_results.items():\n",
    "    print(f\"ANOVA results for '{col}':\")\n",
    "    print(result)\n",
    "    print()"
   ]
  },
  {
   "cell_type": "code",
   "execution_count": 92,
   "id": "e88c2f40",
   "metadata": {},
   "outputs": [
    {
     "name": "stderr",
     "output_type": "stream",
     "text": [
      "D:\\Users\\Pasha\\anaconda3\\lib\\site-packages\\pandas\\core\\frame.py:4906: SettingWithCopyWarning: \n",
      "A value is trying to be set on a copy of a slice from a DataFrame\n",
      "\n",
      "See the caveats in the documentation: https://pandas.pydata.org/pandas-docs/stable/user_guide/indexing.html#returning-a-view-versus-a-copy\n",
      "  return super().drop(\n"
     ]
    }
   ],
   "source": [
    "filtered_df.drop(columns = ['Gender', 'Country', 'Year', 'Average Age'], inplace = True)"
   ]
  },
  {
   "cell_type": "markdown",
   "id": "0c59c20b",
   "metadata": {},
   "source": [
    "## One Hot Encoding for Modeling"
   ]
  },
  {
   "cell_type": "code",
   "execution_count": 93,
   "id": "125647a1",
   "metadata": {},
   "outputs": [],
   "source": [
    "categorical_columns = filtered_df.select_dtypes(include=['object']).columns\n",
    "df_encoded = pd.get_dummies(filtered_df, columns=categorical_columns)\n"
   ]
  },
  {
   "cell_type": "code",
   "execution_count": 95,
   "id": "7f5afcd7",
   "metadata": {},
   "outputs": [
    {
     "data": {
      "text/html": [
       "<div>\n",
       "<style scoped>\n",
       "    .dataframe tbody tr th:only-of-type {\n",
       "        vertical-align: middle;\n",
       "    }\n",
       "\n",
       "    .dataframe tbody tr th {\n",
       "        vertical-align: top;\n",
       "    }\n",
       "\n",
       "    .dataframe thead th {\n",
       "        text-align: right;\n",
       "    }\n",
       "</style>\n",
       "<table border=\"1\" class=\"dataframe\">\n",
       "  <thead>\n",
       "    <tr style=\"text-align: right;\">\n",
       "      <th></th>\n",
       "      <th>Average Comp</th>\n",
       "      <th>Degree_Bachelor’s degree</th>\n",
       "      <th>Degree_Doctoral degree</th>\n",
       "      <th>Degree_I prefer not to answer</th>\n",
       "      <th>Degree_Master’s degree</th>\n",
       "      <th>Degree_No formal education past high school</th>\n",
       "      <th>Degree_Professional degree</th>\n",
       "      <th>Degree_Some college/university study without earning a bachelor’s degree</th>\n",
       "      <th>Job Title_Business Analyst</th>\n",
       "      <th>Job Title_DBA/Database Engineer</th>\n",
       "      <th>...</th>\n",
       "      <th>TPU Usage_Once</th>\n",
       "      <th>ML Methods experience (in years)_1-2 years</th>\n",
       "      <th>ML Methods experience (in years)_10-20 years</th>\n",
       "      <th>ML Methods experience (in years)_2-3 years</th>\n",
       "      <th>ML Methods experience (in years)_20 or more years</th>\n",
       "      <th>ML Methods experience (in years)_3-4 years</th>\n",
       "      <th>ML Methods experience (in years)_4-5 years</th>\n",
       "      <th>ML Methods experience (in years)_5-10 years</th>\n",
       "      <th>ML Methods experience (in years)_I do not use machine learning methods</th>\n",
       "      <th>ML Methods experience (in years)_Under 1 year</th>\n",
       "    </tr>\n",
       "  </thead>\n",
       "  <tbody>\n",
       "    <tr>\n",
       "      <th>60291</th>\n",
       "      <td>15000.5</td>\n",
       "      <td>1</td>\n",
       "      <td>0</td>\n",
       "      <td>0</td>\n",
       "      <td>0</td>\n",
       "      <td>0</td>\n",
       "      <td>0</td>\n",
       "      <td>0</td>\n",
       "      <td>0</td>\n",
       "      <td>0</td>\n",
       "      <td>...</td>\n",
       "      <td>0</td>\n",
       "      <td>0</td>\n",
       "      <td>0</td>\n",
       "      <td>0</td>\n",
       "      <td>0</td>\n",
       "      <td>0</td>\n",
       "      <td>0</td>\n",
       "      <td>0</td>\n",
       "      <td>1</td>\n",
       "      <td>0</td>\n",
       "    </tr>\n",
       "    <tr>\n",
       "      <th>60293</th>\n",
       "      <td>84999.5</td>\n",
       "      <td>1</td>\n",
       "      <td>0</td>\n",
       "      <td>0</td>\n",
       "      <td>0</td>\n",
       "      <td>0</td>\n",
       "      <td>0</td>\n",
       "      <td>0</td>\n",
       "      <td>0</td>\n",
       "      <td>0</td>\n",
       "      <td>...</td>\n",
       "      <td>0</td>\n",
       "      <td>0</td>\n",
       "      <td>0</td>\n",
       "      <td>0</td>\n",
       "      <td>0</td>\n",
       "      <td>0</td>\n",
       "      <td>0</td>\n",
       "      <td>1</td>\n",
       "      <td>0</td>\n",
       "      <td>0</td>\n",
       "    </tr>\n",
       "    <tr>\n",
       "      <th>60294</th>\n",
       "      <td>15000.5</td>\n",
       "      <td>1</td>\n",
       "      <td>0</td>\n",
       "      <td>0</td>\n",
       "      <td>0</td>\n",
       "      <td>0</td>\n",
       "      <td>0</td>\n",
       "      <td>0</td>\n",
       "      <td>0</td>\n",
       "      <td>0</td>\n",
       "      <td>...</td>\n",
       "      <td>0</td>\n",
       "      <td>0</td>\n",
       "      <td>0</td>\n",
       "      <td>0</td>\n",
       "      <td>0</td>\n",
       "      <td>0</td>\n",
       "      <td>0</td>\n",
       "      <td>0</td>\n",
       "      <td>1</td>\n",
       "      <td>0</td>\n",
       "    </tr>\n",
       "    <tr>\n",
       "      <th>60296</th>\n",
       "      <td>5000.0</td>\n",
       "      <td>0</td>\n",
       "      <td>0</td>\n",
       "      <td>0</td>\n",
       "      <td>1</td>\n",
       "      <td>0</td>\n",
       "      <td>0</td>\n",
       "      <td>0</td>\n",
       "      <td>1</td>\n",
       "      <td>0</td>\n",
       "      <td>...</td>\n",
       "      <td>0</td>\n",
       "      <td>0</td>\n",
       "      <td>0</td>\n",
       "      <td>0</td>\n",
       "      <td>0</td>\n",
       "      <td>0</td>\n",
       "      <td>0</td>\n",
       "      <td>0</td>\n",
       "      <td>0</td>\n",
       "      <td>1</td>\n",
       "    </tr>\n",
       "    <tr>\n",
       "      <th>60300</th>\n",
       "      <td>15000.5</td>\n",
       "      <td>0</td>\n",
       "      <td>0</td>\n",
       "      <td>0</td>\n",
       "      <td>0</td>\n",
       "      <td>0</td>\n",
       "      <td>0</td>\n",
       "      <td>1</td>\n",
       "      <td>0</td>\n",
       "      <td>0</td>\n",
       "      <td>...</td>\n",
       "      <td>1</td>\n",
       "      <td>0</td>\n",
       "      <td>0</td>\n",
       "      <td>0</td>\n",
       "      <td>0</td>\n",
       "      <td>0</td>\n",
       "      <td>0</td>\n",
       "      <td>0</td>\n",
       "      <td>0</td>\n",
       "      <td>1</td>\n",
       "    </tr>\n",
       "  </tbody>\n",
       "</table>\n",
       "<p>5 rows × 71 columns</p>\n",
       "</div>"
      ],
      "text/plain": [
       "       Average Comp  Degree_Bachelor’s degree  Degree_Doctoral degree  \\\n",
       "60291       15000.5                         1                       0   \n",
       "60293       84999.5                         1                       0   \n",
       "60294       15000.5                         1                       0   \n",
       "60296        5000.0                         0                       0   \n",
       "60300       15000.5                         0                       0   \n",
       "\n",
       "       Degree_I prefer not to answer  Degree_Master’s degree  \\\n",
       "60291                              0                       0   \n",
       "60293                              0                       0   \n",
       "60294                              0                       0   \n",
       "60296                              0                       1   \n",
       "60300                              0                       0   \n",
       "\n",
       "       Degree_No formal education past high school  \\\n",
       "60291                                            0   \n",
       "60293                                            0   \n",
       "60294                                            0   \n",
       "60296                                            0   \n",
       "60300                                            0   \n",
       "\n",
       "       Degree_Professional degree  \\\n",
       "60291                           0   \n",
       "60293                           0   \n",
       "60294                           0   \n",
       "60296                           0   \n",
       "60300                           0   \n",
       "\n",
       "       Degree_Some college/university study without earning a bachelor’s degree  \\\n",
       "60291                                                  0                          \n",
       "60293                                                  0                          \n",
       "60294                                                  0                          \n",
       "60296                                                  0                          \n",
       "60300                                                  1                          \n",
       "\n",
       "       Job Title_Business Analyst  Job Title_DBA/Database Engineer  ...  \\\n",
       "60291                           0                                0  ...   \n",
       "60293                           0                                0  ...   \n",
       "60294                           0                                0  ...   \n",
       "60296                           1                                0  ...   \n",
       "60300                           0                                0  ...   \n",
       "\n",
       "       TPU Usage_Once  ML Methods experience (in years)_1-2 years  \\\n",
       "60291               0                                           0   \n",
       "60293               0                                           0   \n",
       "60294               0                                           0   \n",
       "60296               0                                           0   \n",
       "60300               1                                           0   \n",
       "\n",
       "       ML Methods experience (in years)_10-20 years  \\\n",
       "60291                                             0   \n",
       "60293                                             0   \n",
       "60294                                             0   \n",
       "60296                                             0   \n",
       "60300                                             0   \n",
       "\n",
       "       ML Methods experience (in years)_2-3 years  \\\n",
       "60291                                           0   \n",
       "60293                                           0   \n",
       "60294                                           0   \n",
       "60296                                           0   \n",
       "60300                                           0   \n",
       "\n",
       "       ML Methods experience (in years)_20 or more years  \\\n",
       "60291                                                  0   \n",
       "60293                                                  0   \n",
       "60294                                                  0   \n",
       "60296                                                  0   \n",
       "60300                                                  0   \n",
       "\n",
       "       ML Methods experience (in years)_3-4 years  \\\n",
       "60291                                           0   \n",
       "60293                                           0   \n",
       "60294                                           0   \n",
       "60296                                           0   \n",
       "60300                                           0   \n",
       "\n",
       "       ML Methods experience (in years)_4-5 years  \\\n",
       "60291                                           0   \n",
       "60293                                           0   \n",
       "60294                                           0   \n",
       "60296                                           0   \n",
       "60300                                           0   \n",
       "\n",
       "       ML Methods experience (in years)_5-10 years  \\\n",
       "60291                                            0   \n",
       "60293                                            1   \n",
       "60294                                            0   \n",
       "60296                                            0   \n",
       "60300                                            0   \n",
       "\n",
       "       ML Methods experience (in years)_I do not use machine learning methods  \\\n",
       "60291                                                  1                        \n",
       "60293                                                  0                        \n",
       "60294                                                  1                        \n",
       "60296                                                  0                        \n",
       "60300                                                  0                        \n",
       "\n",
       "       ML Methods experience (in years)_Under 1 year  \n",
       "60291                                              0  \n",
       "60293                                              0  \n",
       "60294                                              0  \n",
       "60296                                              1  \n",
       "60300                                              1  \n",
       "\n",
       "[5 rows x 71 columns]"
      ]
     },
     "execution_count": 95,
     "metadata": {},
     "output_type": "execute_result"
    }
   ],
   "source": [
    "df_encoded.head()"
   ]
  },
  {
   "cell_type": "markdown",
   "id": "b20643f4",
   "metadata": {},
   "source": [
    "## Model"
   ]
  },
  {
   "cell_type": "code",
   "execution_count": 96,
   "id": "ebd643cf",
   "metadata": {},
   "outputs": [],
   "source": [
    "df_encoded.dropna(inplace = True)"
   ]
  },
  {
   "cell_type": "code",
   "execution_count": 98,
   "id": "01fc8ce5",
   "metadata": {},
   "outputs": [],
   "source": [
    "target  = df_encoded['Average Comp']"
   ]
  },
  {
   "cell_type": "code",
   "execution_count": 112,
   "id": "f3e6dbd2",
   "metadata": {},
   "outputs": [],
   "source": [
    "features = df_encoded.drop(columns = 'Average Comp')"
   ]
  },
  {
   "cell_type": "code",
   "execution_count": 113,
   "id": "9b879da5",
   "metadata": {},
   "outputs": [],
   "source": [
    "features_train, features_test, target_train, target_test = train_test_split(features, target, test_size = 0.3, random_state = 42)"
   ]
  },
  {
   "cell_type": "code",
   "execution_count": 115,
   "id": "86f7f719",
   "metadata": {},
   "outputs": [],
   "source": [
    "from sklearn.dummy import DummyRegressor"
   ]
  },
  {
   "cell_type": "code",
   "execution_count": 116,
   "id": "47ebed53",
   "metadata": {},
   "outputs": [],
   "source": [
    "ols = LinearRegression()"
   ]
  },
  {
   "cell_type": "code",
   "execution_count": 117,
   "id": "91e2bda3",
   "metadata": {},
   "outputs": [],
   "source": [
    "model = ols.fit(features_train,target_train)"
   ]
  },
  {
   "cell_type": "code",
   "execution_count": 118,
   "id": "e1117912",
   "metadata": {},
   "outputs": [],
   "source": [
    "target_predict = model.predict(features_test)"
   ]
  },
  {
   "cell_type": "code",
   "execution_count": 119,
   "id": "f3fa930b",
   "metadata": {},
   "outputs": [
    {
     "name": "stdout",
     "output_type": "stream",
     "text": [
      "R-squared value of the Linear Regression model without tuning is -  0.25088851009329316\n"
     ]
    }
   ],
   "source": [
    "r2 = r2_score(target_test, target_predict)\n",
    "print(\"R-squared value of the Linear Regression model without tuning is - \", r2)"
   ]
  },
  {
   "cell_type": "markdown",
   "id": "ecda2835",
   "metadata": {},
   "source": [
    "### Baseline model"
   ]
  },
  {
   "cell_type": "code",
   "execution_count": 120,
   "id": "f77c0a0c",
   "metadata": {},
   "outputs": [],
   "source": [
    "dummy_r = DummyRegressor(strategy = 'mean')"
   ]
  },
  {
   "cell_type": "code",
   "execution_count": 121,
   "id": "cc7f12ed",
   "metadata": {},
   "outputs": [
    {
     "data": {
      "text/plain": [
       "DummyRegressor()"
      ]
     },
     "execution_count": 121,
     "metadata": {},
     "output_type": "execute_result"
    }
   ],
   "source": [
    "# Train a baseline model on the training set\n",
    "dummy_r.fit(features_train, target_train)"
   ]
  },
  {
   "cell_type": "code",
   "execution_count": 122,
   "id": "2a24b0b7",
   "metadata": {},
   "outputs": [
    {
     "data": {
      "text/plain": [
       "-0.0003081758753353814"
      ]
     },
     "execution_count": 122,
     "metadata": {},
     "output_type": "execute_result"
    }
   ],
   "source": [
    "# Calculate the score of the baseline model\n",
    "dummy_r.score(features_test, target_test)"
   ]
  },
  {
   "cell_type": "markdown",
   "id": "ed029001",
   "metadata": {},
   "source": [
    "### Random Forest"
   ]
  },
  {
   "cell_type": "code",
   "execution_count": 123,
   "id": "063f6518",
   "metadata": {},
   "outputs": [
    {
     "name": "stdout",
     "output_type": "stream",
     "text": [
      "R-squared value of the RandomForest model is -  0.16890683896572034\n"
     ]
    }
   ],
   "source": [
    "rfm = RandomForestRegressor()\n",
    "model_rf = rfm.fit(features_train, target_train)\n",
    "target_predict_rf = model_rf.predict(features_test)\n",
    "r2_rf =r2_score(target_test,target_predict_rf )\n",
    "print(\"R-squared value of the RandomForest model is - \", r2_rf)"
   ]
  },
  {
   "cell_type": "markdown",
   "id": "5157285e",
   "metadata": {},
   "source": [
    "### Grid Search CV will be employed to fine-tune the Random Forest algorithm, which has demonstrated better performance in predicting salaries. Various parameters including the number of estimators, maximum depth, and minimum sample split will be tested to determine the optimal performance."
   ]
  },
  {
   "cell_type": "code",
   "execution_count": 127,
   "id": "1e7a0974",
   "metadata": {},
   "outputs": [],
   "source": [
    "# Import all necessary libraries\n",
    "import pandas as pd\n",
    "import numpy as np\n",
    "from sklearn.dummy import DummyRegressor\n",
    "from sklearn.model_selection import train_test_split\n",
    "from sklearn.linear_model import LinearRegression\n",
    "from sklearn.model_selection import cross_val_score\n",
    "from sklearn.preprocessing import StandardScaler\n",
    "from sklearn.decomposition import PCA\n",
    "from sklearn.metrics import r2_score\n",
    "from sklearn.metrics import mean_squared_error\n",
    "from sklearn import preprocessing\n",
    "from sklearn.feature_selection import VarianceThreshold\n",
    "from sklearn.ensemble import RandomForestClassifier\n",
    "from sklearn.linear_model import Lasso, Ridge\n",
    "from sklearn.ensemble import RandomForestRegressor\n",
    "from sklearn.model_selection import GridSearchCV"
   ]
  },
  {
   "cell_type": "code",
   "execution_count": 124,
   "id": "f9121bca",
   "metadata": {},
   "outputs": [],
   "source": [
    "# Create a dictionary of parameters and values to serach the best model on\n",
    "search_grid = {'n_estimators' : [100, 200,300],\n",
    "               'max_depth' : [None, 10,20,30,40],\n",
    "               'min_samples_split' :[2,5,10]\n",
    "    \n",
    "}"
   ]
  },
  {
   "cell_type": "code",
   "execution_count": 125,
   "id": "fcd0223b",
   "metadata": {},
   "outputs": [],
   "source": [
    "# Create an instance of Random Forest regressor\n",
    "rfm = RandomForestRegressor(random_state = 42)"
   ]
  },
  {
   "cell_type": "code",
   "execution_count": 128,
   "id": "edcabc72",
   "metadata": {},
   "outputs": [],
   "source": [
    "# Apply a grid search cross validation with the set of parameters and cross validation of 5 \n",
    "grid_search = GridSearchCV(estimator = rfm, param_grid = search_grid, cv =5, n_jobs = -1, scoring = 'r2')"
   ]
  },
  {
   "cell_type": "code",
   "execution_count": 129,
   "id": "65545de8",
   "metadata": {},
   "outputs": [
    {
     "data": {
      "text/plain": [
       "GridSearchCV(cv=5, estimator=RandomForestRegressor(random_state=42), n_jobs=-1,\n",
       "             param_grid={'max_depth': [None, 10, 20, 30, 40],\n",
       "                         'min_samples_split': [2, 5, 10],\n",
       "                         'n_estimators': [100, 200, 300]},\n",
       "             scoring='r2')"
      ]
     },
     "execution_count": 129,
     "metadata": {},
     "output_type": "execute_result"
    }
   ],
   "source": [
    "# Train the model using Grid Search cross validation\n",
    "grid_search.fit(features_train, target_train)"
   ]
  },
  {
   "cell_type": "code",
   "execution_count": 130,
   "id": "f142c770",
   "metadata": {},
   "outputs": [
    {
     "data": {
      "text/plain": [
       "RandomForestRegressor(max_depth=10, min_samples_split=10, n_estimators=200,\n",
       "                      random_state=42)"
      ]
     },
     "execution_count": 130,
     "metadata": {},
     "output_type": "execute_result"
    }
   ],
   "source": [
    "grid_search.best_estimator_"
   ]
  },
  {
   "cell_type": "code",
   "execution_count": 132,
   "id": "4e9b27d8",
   "metadata": {},
   "outputs": [],
   "source": [
    "best_grid_model_rf = grid_search.best_estimator_"
   ]
  },
  {
   "cell_type": "code",
   "execution_count": 133,
   "id": "fac822f5",
   "metadata": {},
   "outputs": [],
   "source": [
    "target_predict_rfm = best_grid_model_rf.predict(features_test)"
   ]
  },
  {
   "cell_type": "code",
   "execution_count": 134,
   "id": "2da83e2a",
   "metadata": {},
   "outputs": [
    {
     "name": "stdout",
     "output_type": "stream",
     "text": [
      "R-squared value of the RandomForest model with a grid search cross validation is -  0.2463720020048803\n"
     ]
    }
   ],
   "source": [
    "# Calculate R2 of the model\n",
    "r2_best_rfm = r2_score(target_test, target_predict_rfm)\n",
    "print(\"R-squared value of the RandomForest model with a grid search cross validation is - \", r2_best_rfm)"
   ]
  },
  {
   "cell_type": "markdown",
   "id": "3f461969",
   "metadata": {},
   "source": [
    "## XGBoost"
   ]
  },
  {
   "cell_type": "code",
   "execution_count": 135,
   "id": "59e3a106",
   "metadata": {},
   "outputs": [],
   "source": [
    "# Import necessary packages for XGBoost model training\n",
    "import xgboost as xgb\n",
    "from xgboost import XGBRegressor"
   ]
  },
  {
   "cell_type": "code",
   "execution_count": 136,
   "id": "8da987df",
   "metadata": {},
   "outputs": [],
   "source": [
    "# Create a fearures matrixes for XGBoost model\n",
    "dtrain = xgb.DMatrix(features_train, label=target_train)\n",
    "dtest = xgb.DMatrix(features_test, label=target_test)"
   ]
  },
  {
   "cell_type": "code",
   "execution_count": 137,
   "id": "f46d1618",
   "metadata": {},
   "outputs": [],
   "source": [
    "# Create a dictionary of hyperparameters for model tuning\n",
    "parms_xgb_grid = {\n",
    "    \"n_estimators\" : [100,200,500,800],\n",
    "    \"learning_rate\" : [0.01, 0.1, 0.3],\n",
    "    \"max_depth\" : [3,5,7],\n",
    "    \"colsample_bytree\" : [0.7,1],\n",
    "    \"subsample\" : [0.7, 1]\n",
    "}"
   ]
  },
  {
   "cell_type": "code",
   "execution_count": 138,
   "id": "c01d6eab",
   "metadata": {},
   "outputs": [],
   "source": [
    "# Create an instance of XGBoost model\n",
    "xgb_model = XGBRegressor(random_state =42)"
   ]
  },
  {
   "cell_type": "code",
   "execution_count": 139,
   "id": "fcf168d9",
   "metadata": {},
   "outputs": [],
   "source": [
    "# Generate a grid search \n",
    "grid_search_xgb = GridSearchCV(estimator = xgb_model, param_grid = parms_xgb_grid, cv =5, n_jobs = -1, scoring = 'r2')"
   ]
  },
  {
   "cell_type": "code",
   "execution_count": 140,
   "id": "aded3088",
   "metadata": {},
   "outputs": [
    {
     "data": {
      "text/plain": [
       "GridSearchCV(cv=5,\n",
       "             estimator=XGBRegressor(base_score=None, booster=None,\n",
       "                                    callbacks=None, colsample_bylevel=None,\n",
       "                                    colsample_bynode=None,\n",
       "                                    colsample_bytree=None, device=None,\n",
       "                                    early_stopping_rounds=None,\n",
       "                                    enable_categorical=False, eval_metric=None,\n",
       "                                    feature_types=None, gamma=None,\n",
       "                                    grow_policy=None, importance_type=None,\n",
       "                                    interaction_constraints=None,\n",
       "                                    learning_rate=None, m...\n",
       "                                    max_depth=None, max_leaves=None,\n",
       "                                    min_child_weight=None, missing=nan,\n",
       "                                    monotone_constraints=None,\n",
       "                                    multi_strategy=None, n_estimators=None,\n",
       "                                    n_jobs=None, num_parallel_tree=None,\n",
       "                                    random_state=42, ...),\n",
       "             n_jobs=-1,\n",
       "             param_grid={'colsample_bytree': [0.7, 1],\n",
       "                         'learning_rate': [0.01, 0.1, 0.3],\n",
       "                         'max_depth': [3, 5, 7],\n",
       "                         'n_estimators': [100, 200, 500, 800],\n",
       "                         'subsample': [0.7, 1]},\n",
       "             scoring='r2')"
      ]
     },
     "execution_count": 140,
     "metadata": {},
     "output_type": "execute_result"
    }
   ],
   "source": [
    "# Train a model using grid serach cross validation\n",
    "grid_search_xgb.fit(features_train, target_train)"
   ]
  },
  {
   "cell_type": "code",
   "execution_count": null,
   "id": "b789e82f",
   "metadata": {},
   "outputs": [],
   "source": []
  }
 ],
 "metadata": {
  "kernelspec": {
   "display_name": "Python 3 (ipykernel)",
   "language": "python",
   "name": "python3"
  },
  "language_info": {
   "codemirror_mode": {
    "name": "ipython",
    "version": 3
   },
   "file_extension": ".py",
   "mimetype": "text/x-python",
   "name": "python",
   "nbconvert_exporter": "python",
   "pygments_lexer": "ipython3",
   "version": "3.9.13"
  }
 },
 "nbformat": 4,
 "nbformat_minor": 5
}
